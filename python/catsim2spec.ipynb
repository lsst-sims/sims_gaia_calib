{
 "cells": [
  {
   "cell_type": "markdown",
   "metadata": {},
   "source": [
    "Let's query the CatSim database and pull down the stars in a given region and see what their spectra are.\n",
    "\n",
    "Connect to fatboy with:\n",
    "\n",
    "ssh -L 51433:fatboy.phys.washington.edu:1433 gateway.astro.washington.edu\n",
    "\n",
    "\n",
    "If non-astro user, use simsuser@gateway.astro.washington.edu\n",
    "\n",
    "Database schema at:  https://confluence.lsstcorp.org/display/SIM/Database+Schema\n"
   ]
  },
  {
   "cell_type": "code",
   "execution_count": 1,
   "metadata": {
    "collapsed": false
   },
   "outputs": [
    {
     "name": "stderr",
     "output_type": "stream",
     "text": [
      "/Users/yoachim/anaconda/lib/python2.7/site-packages/matplotlib/font_manager.py:273: UserWarning: Matplotlib is building the font cache using fc-list. This may take a moment.\n",
      "  warnings.warn('Matplotlib is building the font cache using fc-list. This may take a moment.')\n",
      "WARNING: AstropyDeprecationWarning: Config parameter 'default_cosmology' in section [astropy.cosmology.core] is deprecated. Use science state astropy.cosmology.core.default_cosmology instead. [astropy.utils.state]\n",
      "WARNING:astropy:AstropyDeprecationWarning: Config parameter 'default_cosmology' in section [astropy.cosmology.core] is deprecated. Use science state astropy.cosmology.core.default_cosmology instead.\n",
      "Duplicate object type id 25 specified: \n",
      "Output object ids may not be unique.\n",
      "This may not be a problem if you do not want globally unique id values\n",
      "Duplicate object type id 40 specified: \n",
      "Output object ids may not be unique.\n",
      "This may not be a problem if you do not want globally unique id values\n",
      "Duplicate object type id 40 specified: \n",
      "Output object ids may not be unique.\n",
      "This may not be a problem if you do not want globally unique id values\n",
      "Duplicate object type id 40 specified: \n",
      "Output object ids may not be unique.\n",
      "This may not be a problem if you do not want globally unique id values\n",
      "Duplicate object type id 40 specified: \n",
      "Output object ids may not be unique.\n",
      "This may not be a problem if you do not want globally unique id values\n",
      "WARNING: AstropyDeprecationWarning: Config parameter 'name_resolve_timeout' in section [coordinates.name_resolve] of the file '/Users/yoachim/.astropy/config/astropy.cfg' is deprecated. Use 'remote_timeout' in section [utils.data] instead. [astropy.config.configuration]\n",
      "WARNING:astropy:AstropyDeprecationWarning: Config parameter 'name_resolve_timeout' in section [coordinates.name_resolve] of the file '/Users/yoachim/.astropy/config/astropy.cfg' is deprecated. Use 'remote_timeout' in section [utils.data] instead.\n",
      "WARNING: AstropyDeprecationWarning: Config parameter 'remote_timeout' in section [utils.data] of the file '/Users/yoachim/.astropy/config/astropy.cfg' is given by more than one alias (astropy.utils.data.remote_timeout, coordinates.name_resolve.name_resolve_timeout). Using the first. [astropy.config.configuration]\n",
      "WARNING:astropy:AstropyDeprecationWarning: Config parameter 'remote_timeout' in section [utils.data] of the file '/Users/yoachim/.astropy/config/astropy.cfg' is given by more than one alias (astropy.utils.data.remote_timeout, coordinates.name_resolve.name_resolve_timeout). Using the first.\n"
     ]
    }
   ],
   "source": [
    "%matplotlib inline\n",
    "import matplotlib.pylab as plt\n",
    "from lsst.sims.catalogs.generation.db import CatalogDBObject\n",
    "from lsst.sims.catUtils.baseCatalogModels import *\n",
    "from lsst.sims.catUtils.exampleCatalogDefinitions import *\n",
    "import numpy as np\n",
    "from lsst.sims.utils import ObservationMetaData\n",
    "import lsst.sims.photUtils.Sed as Sed\n",
    "import lsst.sims.photUtils.Bandpass as Bandpass\n",
    "from lsst.sims.photUtils import calcMagError_m5, PhotometricParameters\n",
    "import lsst.sims.maf.db as db\n",
    "import lsst.sims.maf.metrics as metrics\n",
    "import lsst.sims.maf.slicers as slicers\n",
    "import lsst.sims.maf.stackers as stackers\n",
    "import lsst.sims.maf.metricBundles as metricBundles"
   ]
  },
  {
   "cell_type": "code",
   "execution_count": 2,
   "metadata": {
    "collapsed": false
   },
   "outputs": [],
   "source": [
    "ra = 0.  # Degrees\n",
    "dec = 0.  # Degrees\n",
    "boundLength = 1. \n",
    "dbobj = CatalogDBObject.from_objid('allstars')\n",
    "obs_metadata = ObservationMetaData(boundType='circle',pointingRA=ra,\n",
    "                                   pointingDec=dec,boundLength=boundLength, mjd=5700)\n",
    "t = dbobj.getCatalog('ref_catalog_star', obs_metadata=obs_metadata)"
   ]
  },
  {
   "cell_type": "code",
   "execution_count": 3,
   "metadata": {
    "collapsed": false
   },
   "outputs": [
    {
     "name": "stderr",
     "output_type": "stream",
     "text": [
      "/Users/yoachim/anaconda/lib/python2.7/site-packages/sqlalchemy/sql/elements.py:3758: SAWarning: Textual SQL expression 'rmag < 18 and rmag > 15' should be explicitly declared as text('rmag < 18 and rmag > 15') (this warning may be suppressed after 10 occurrences)\n",
      "  {\"expr\": util.ellipses_string(element)})\n"
     ]
    }
   ],
   "source": [
    "constraint = 'rmag < 18 and rmag > 15'\n",
    "chunks = t.db_obj.query_columns(colnames=['magNorm', 'rmag', 'sedfilename', 'ebv', 'especid'], \n",
    "                                obs_metadata=obs_metadata,constraint=constraint, \n",
    "                                chunk_size=1000000)"
   ]
  },
  {
   "cell_type": "code",
   "execution_count": 4,
   "metadata": {
    "collapsed": false
   },
   "outputs": [],
   "source": [
    "for chunk in chunks:\n",
    "    catalog = chunk"
   ]
  },
  {
   "cell_type": "code",
   "execution_count": 5,
   "metadata": {
    "collapsed": false
   },
   "outputs": [
    {
     "name": "stdout",
     "output_type": "stream",
     "text": [
      "[ (426037734, 18.416089294789845, 17.05723, ' lte035-5.0-1.0a+0.4.BT-Settl.spec.gz', 0.0323519, -1)\n",
      " (426038330, 18.290699525042417, 16.99824, ' lte037-5.5-1.0a+0.4.BT-Settl.spec.gz', 0.0308979, -1)\n",
      " (426034893, 19.3180890639283, 17.95176, ' lte034-4.5-1.0a+0.4.BT-Settl.spec.gz', 0.0388949, -1)\n",
      " ...,\n",
      " (818778168, 18.50200462579635, 17.8869787, 'km10_4500.fits_g00_4700', 0.0298073, -1)\n",
      " (588510793, 16.60674090182788, 15.8799033, 'km15_4250.fits_g00_4470', 0.0301708, -1)\n",
      " (818778743, 16.311396374180536, 16.0920467, 'km10_5500.fits_g15_5720', 0.0301708, -1)]\n"
     ]
    }
   ],
   "source": [
    "print catalog"
   ]
  },
  {
   "cell_type": "code",
   "execution_count": 6,
   "metadata": {
    "collapsed": true
   },
   "outputs": [],
   "source": [
    "# OK, now I'd like to load up the spectra of one of the stars and apply the extinction so it's the full SED as it would be observed in space\n",
    "import os\n",
    "\n",
    "# the SEDs are stored in sub-directories of the sims_sed_library home\n",
    "# directory.  defaultSpecMap is a dict-like class that maps from the\n",
    "# sed filenames stored in the CatSim database to the relevant\n",
    "# sub-directory\n",
    "from lsst.sims.utils import defaultSpecMap\n",
    "\n",
    "# get the sims_sed_library home directory\n",
    "from lsst.utils import getPackageDir\n",
    "sed_dir = getPackageDir('sims_sed_library')\n",
    "\n",
    "from lsst.sims.photUtils import Sed, Bandpass"
   ]
  },
  {
   "cell_type": "code",
   "execution_count": 7,
   "metadata": {
    "collapsed": true
   },
   "outputs": [],
   "source": [
    "imsimBand = Bandpass()\n",
    "imsimBand.imsimBandpass()  # this is how we normalize SEDs"
   ]
  },
  {
   "cell_type": "code",
   "execution_count": 8,
   "metadata": {
    "collapsed": false
   },
   "outputs": [
    {
     "data": {
      "text/plain": [
       "(0, 10000)"
      ]
     },
     "execution_count": 8,
     "metadata": {},
     "output_type": "execute_result"
    },
    {
     "data": {
      "image/png": "[encoded data removed]",
      "text/plain": [
       "<matplotlib.figure.Figure at 0x1181b04d0>"
      ]
     },
     "metadata": {},
     "output_type": "display_data"
    }
   ],
   "source": [
    "dex = 0 # index of the star whose spectrum we are generating\n",
    "\n",
    "ss = Sed()\n",
    "sed_name = os.path.join(sed_dir, defaultSpecMap[catalog['sedfilename'][dex]])\n",
    "ss.readSED_flambda(sed_name)\n",
    "\n",
    "# calculate the multiplicative normalization associated with 'magNorm'\n",
    "# and multiply by that value.\n",
    "# Note: if you wanted to normalize to a magnitude in a different band,\n",
    "# you could do that by passing a different magnitude and bandpass\n",
    "# into ss.calcFluxNorm()\n",
    "fNorm = ss.calcFluxNorm(catalog['magNorm'][dex], imsimBand)\n",
    "ss.multiplyFluxNorm(fNorm)\n",
    "\n",
    "plt.plot(ss.wavelen, ss.flambda)\n",
    "# set up some wavelength-dependent parameters for the dust model\n",
    "# (note: even though the method is called CCMDust, this is actually\n",
    "# applying the O'Donnell '94 dust model)\n",
    "a_x, b_x = ss.setupCCMab()\n",
    "ss.addCCMDust(a_x, b_x, ebv=catalog['ebv'][dex])\n",
    "\n",
    "# ss will have member variables wavelen (in nm) and flambda, which is\n",
    "# ergs/s/cm^2/nm\n",
    "plt.plot(ss.wavelen, ss.flambda)\n",
    "plt.xlabel('Wavelength (nm)')\n",
    "plt.ylabel(r'$f_\\lambda$ (ergs/s/cm$^2$/nm)')\n",
    "plt.xlim([0,10000])"
   ]
  },
  {
   "cell_type": "code",
   "execution_count": 9,
   "metadata": {
    "collapsed": false
   },
   "outputs": [
    {
     "name": "stdout",
     "output_type": "stream",
     "text": [
      "computed rmag 17.0428202577\n",
      "from CatSim rmag 17.05723\n"
     ]
    }
   ],
   "source": [
    "# maybe now multiply by a throughput and calc LSST mags?\n",
    "rband = Bandpass()\n",
    "throughPath = os.path.join(getPackageDir('throughputs'), 'baseline')\n",
    "bp =  np.loadtxt(os.path.join(throughPath, 'total_r.dat'),\n",
    "                            dtype=zip(['wave', 'trans'], [float]*2))\n",
    "rband.setBandpass(bp['wave'], bp['trans'])\n",
    "print 'computed rmag', ss.calcMag(rband)\n",
    "print 'from CatSim rmag', catalog['rmag'][dex]"
   ]
  },
  {
   "cell_type": "markdown",
   "metadata": {
    "collapsed": true
   },
   "source": [
    "I'm going to guess that there might be a mis-match between the filter curves that were used when the database was constructed and the ones that are now the default.  \n"
   ]
  },
  {
   "cell_type": "code",
   "execution_count": 10,
   "metadata": {
    "collapsed": false
   },
   "outputs": [
    {
     "name": "stdout",
     "output_type": "stream",
     "text": [
      "LSST mag, mag error =  17.0428202577 0.00515473440065\n"
     ]
    }
   ],
   "source": [
    "# In the future, just take a bunch of m5's from opsim\n",
    "m5 = 24.\n",
    "pp = PhotometricParameters()\n",
    "print 'LSST mag, mag error = ', ss.calcMag(rband), calcMagError_m5(ss.calcMag(rband), rband, m5, pp)[0]"
   ]
  },
  {
   "cell_type": "markdown",
   "metadata": {
    "collapsed": false
   },
   "source": [
    "Now let's use MAF to load up some observations"
   ]
  },
  {
   "cell_type": "code",
   "execution_count": 11,
   "metadata": {
    "collapsed": false
   },
   "outputs": [],
   "source": [
    "dbfile = 'minion_1016_sqlite.db'\n",
    "opsdb = db.OpsimDatabase(dbfile)\n",
    "outDir = 'temp'\n",
    "resultsDb = db.ResultsDb(outDir=outDir)"
   ]
  },
  {
   "cell_type": "code",
   "execution_count": 12,
   "metadata": {
    "collapsed": false
   },
   "outputs": [],
   "source": [
    "bundleList = []\n",
    "sql = 'filter=\"r\"'\n",
    "slicer = slicers.UserPointsSlicer(ra, dec)\n",
    "metric = metrics.PassMetric(cols=['fiveSigmaDepth', 'expMJD'])\n",
    "bundle = metricBundles.MetricBundle(metric,slicer,sql)\n",
    "bundleList.append(bundle)\n",
    "bundleDict = metricBundles.makeBundlesDictFromList(bundleList)"
   ]
  },
  {
   "cell_type": "code",
   "execution_count": 13,
   "metadata": {
    "collapsed": false
   },
   "outputs": [
    {
     "name": "stdout",
     "output_type": "stream",
     "text": [
      "Querying database with constraint filter=\"r\"\n",
      "Found 538713 visits\n",
      "Running:  ['opsim_Pass_fiveSigmaDepth_expMJD_r_USER']\n",
      "Completed metric generation.\n",
      "Running reduce methods.\n",
      "Running summary statistics.\n",
      "Completed.\n"
     ]
    }
   ],
   "source": [
    "bgroup = metricBundles.MetricBundleGroup(bundleDict, opsdb, outDir=outDir, resultsDb=resultsDb)\n",
    "bgroup.runAll()"
   ]
  },
  {
   "cell_type": "code",
   "execution_count": 14,
   "metadata": {
    "collapsed": false
   },
   "outputs": [],
   "source": [
    "star_mag = ss.calcMag(rband)\n",
    "mag_err = [calcMagError_m5(star_mag, rband, m5, pp)[0] for m5 in bundle.metricValues[0]['fiveSigmaDepth']]"
   ]
  },
  {
   "cell_type": "code",
   "execution_count": 15,
   "metadata": {
    "collapsed": false
   },
   "outputs": [
    {
     "data": {
      "text/plain": [
       "[0.0051526110405146095,\n",
       " 0.0051497503541334004,\n",
       " 0.0051527959946811568,\n",
       " 0.0051663259809705837,\n",
       " 0.0051540017415729455,\n",
       " 0.0051591442110635356,\n",
       " 0.0051484581039838093,\n",
       " 0.0051481555176762887,\n",
       " 0.0051535607997783926,\n",
       " 0.0051591270433224709]"
      ]
     },
     "execution_count": 15,
     "metadata": {},
     "output_type": "execute_result"
    }
   ],
   "source": [
    "mag_err[0:10]"
   ]
  },
  {
   "cell_type": "code",
   "execution_count": null,
   "metadata": {
    "collapsed": true
   },
   "outputs": [],
   "source": []
  }
 ],
 "metadata": {
  "kernelspec": {
   "display_name": "Python 2",
   "language": "python",
   "name": "python2"
  },
  "language_info": {
   "codemirror_mode": {
    "name": "ipython",
    "version": 2
   },
   "file_extension": ".py",
   "mimetype": "text/x-python",
   "name": "python",
   "nbconvert_exporter": "python",
   "pygments_lexer": "ipython2",
   "version": "2.7.12"
  }
 },
 "nbformat": 4,
 "nbformat_minor": 0
}

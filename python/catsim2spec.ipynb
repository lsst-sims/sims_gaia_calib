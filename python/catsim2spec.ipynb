{
 "cells": [
  {
   "cell_type": "markdown",
   "metadata": {},
   "source": [
    "Let's query the CatSim database and pull down the stars in a given region and see what their spectra are.\n",
    "\n",
    "Connect to fatboy with:\n",
    "\n",
    "ssh -L 51433:fatboy.phys.washington.edu:1433 gateway.astro.washington.edu\n",
    "\n",
    "\n",
    "If non-astro user, use simsuser@gateway.astro.washington.edu\n",
    "\n",
    "Database schema at:  https://confluence.lsstcorp.org/display/SIM/Database+Schema"
   ]
  },
  {
   "cell_type": "code",
   "execution_count": 1,
   "metadata": {
    "collapsed": false
   },
   "outputs": [
    {
     "name": "stderr",
     "output_type": "stream",
     "text": [
      "/Users/yoachim/lsst/DarwinX86/anaconda/2.2.0/lib/python2.7/site-packages/matplotlib/font_manager.py:273: UserWarning: Matplotlib is building the font cache using fc-list. This may take a moment.\n",
      "  warnings.warn('Matplotlib is building the font cache using fc-list. This may take a moment.')\n",
      "/Users/yoachim/lsst/DarwinX86/sims_catalogs_generation/sims_2.2.4/python/lsst/sims/catalogs/generation/db/dbConnection.py:438: UserWarning: Duplicate object type id 25 specified: \n",
      "Output object ids may not be unique.\n",
      "This may not be a problem if you do not want globally unique id values\n",
      "  'want globally unique id values')\n",
      "/Users/yoachim/lsst/DarwinX86/sims_catalogs_generation/sims_2.2.4/python/lsst/sims/catalogs/generation/db/dbConnection.py:438: UserWarning: Duplicate object type id 40 specified: \n",
      "Output object ids may not be unique.\n",
      "This may not be a problem if you do not want globally unique id values\n",
      "  'want globally unique id values')\n"
     ]
    }
   ],
   "source": [
    "from lsst.sims.catalogs.generation.db import CatalogDBObject\n",
    "from lsst.sims.catUtils.baseCatalogModels import *\n",
    "from lsst.sims.catUtils.exampleCatalogDefinitions import *\n",
    "import numpy as np\n",
    "from lsst.sims.utils import ObservationMetaData\n",
    "import lsst.sims.photUtils.Sed as Sed\n",
    "import lsst.sims.photUtils.Bandpass as Bandpass"
   ]
  },
  {
   "cell_type": "code",
   "execution_count": 2,
   "metadata": {
    "collapsed": false
   },
   "outputs": [],
   "source": [
    "ra = 0.  # Degrees\n",
    "dec = 0.  # Degrees\n",
    "boundLength = 1. \n",
    "dbobj = CatalogDBObject.from_objid('allstars')\n",
    "obs_metadata = ObservationMetaData(boundType='circle',pointingRA=ra,\n",
    "                                   pointingDec=dec,boundLength=boundLength, mjd=5700)\n",
    "t = dbobj.getCatalog('ref_catalog_star', obs_metadata=obs_metadata)"
   ]
  },
  {
   "cell_type": "code",
   "execution_count": 3,
   "metadata": {
    "collapsed": false
   },
   "outputs": [
    {
     "name": "stderr",
     "output_type": "stream",
     "text": [
      "/Users/yoachim/lsst/DarwinX86/sqlalchemy/2015_10.0-1-gaf5a1cb/lib/python/SQLAlchemy-1.0.8-py2.7-macosx-10.5-x86_64.egg/sqlalchemy/sql/elements.py:3779: SAWarning: Textual SQL expression 'rmag < 18 and rmag > 15' should be explicitly declared as text('rmag < 18 and rmag > 15') (this warning may be suppressed after 10 occurrences)\n",
      "  {\"expr\": util.ellipses_string(element)})\n"
     ]
    }
   ],
   "source": [
    "constraint = 'rmag < 18 and rmag > 15'\n",
    "chunks = t.db_obj.query_columns(colnames=['magNorm', 'rmag', 'sedfilename', 'ebv', 'especid'], \n",
    "                                obs_metadata=obs_metadata,constraint=constraint, \n",
    "                                chunk_size=1000000)"
   ]
  },
  {
   "cell_type": "code",
   "execution_count": 4,
   "metadata": {
    "collapsed": false
   },
   "outputs": [],
   "source": [
    "for chunk in chunks:\n",
    "    catalog = chunk"
   ]
  },
  {
   "cell_type": "code",
   "execution_count": 5,
   "metadata": {
    "collapsed": false
   },
   "outputs": [
    {
     "name": "stdout",
     "output_type": "stream",
     "text": [
      "[ (426037734, 17.05723, ' lte035-5.0-1.0a+0.4.BT-Settl.spec.gz', 0.0323519, -1)\n",
      " (426038330, 16.99824, ' lte037-5.5-1.0a+0.4.BT-Settl.spec.gz', 0.0308979, -1)\n",
      " (426034893, 17.95176, ' lte034-4.5-1.0a+0.4.BT-Settl.spec.gz', 0.0388949, -1)\n",
      " ..., (818778168, 17.8869787, 'km10_4500.fits_g00_4700', 0.0298073, -1)\n",
      " (588510793, 15.8799033, 'km15_4250.fits_g00_4470', 0.0301708, -1)\n",
      " (818778743, 16.0920467, 'km10_5500.fits_g15_5720', 0.0301708, -1)]\n"
     ]
    }
   ],
   "source": [
    "print catalog"
   ]
  },
  {
   "cell_type": "code",
   "execution_count": 17,
   "metadata": {
    "collapsed": true
   },
   "outputs": [],
   "source": [
    "# OK, now I'd like to load up the spectra of one of the stars and apply the extinction so it's the full SED as it would be observed in space\n",
    "import os\n",
    "\n",
    "# the SEDs are stored in sub-directories of the sims_sed_library home\n",
    "# directory.  defaultSpecMap is a dict-like class that maps from the\n",
    "# sed filenames stored in the CatSim database to the relevant\n",
    "# sub-directory\n",
    "from lsst.sims.utils import defaultSpecMap\n",
    "\n",
    "# get the sims_sed_library home directory\n",
    "from lsst.utils import getPackageDir\n",
    "sed_dir = getPackageDir('sims_sed_library')\n",
    "\n",
    "from lsst.sims.photUtils import Sed, Bandpass"
   ]
  },
  {
   "cell_type": "code",
   "execution_count": 18,
   "metadata": {
    "collapsed": true
   },
   "outputs": [],
   "source": [
    "imsimBand = Bandpass()\n",
    "imsimBand.imsimBandpass()  # this is how we normalize SEDs"
   ]
  },
  {
   "cell_type": "code",
   "execution_count": 21,
   "metadata": {
    "collapsed": false
   },
   "outputs": [],
   "source": [
    "dex = 0 # index of the star whose spectrum we are generating\n",
    "\n",
    "ss = Sed()\n",
    "sed_name = os.path.join(sed_dir, defaultSpecMap[catalog['sedfilename'][dex]])\n",
    "ss.readSED_flambda(sed_name)\n",
    "\n",
    "# calculate the multiplicative normalization associated with 'magNorm'\n",
    "# and multiply by that value.\n",
    "# Note: if you wanted to normalize to a magnitude in a different band,\n",
    "# you could do that by passing a different magnitude and bandpass\n",
    "# into ss.calcFluxNorm()\n",
    "fNorm = ss.calcFluxNorm(catalog['magNorm'][dex], imsimBand)\n",
    "ss.multiplyFluxNorm(fNorm)\n",
    "\n",
    "# set up some wavelength-dependent parameters for the dust model\n",
    "# (note: even though the method is called CCMDust, this is actually\n",
    "# applying the O'Donnell '94 dust model)\n",
    "a_x, b_x = ss.setupCCMab()\n",
    "ss.addCCMDust(a_x, b_x, ebv=catalog['ebv'][0])\n",
    "\n",
    "# ss will have member variables wavelen (in nm) and flambda, which is\n",
    "# ergs/s/cm^2/nm"
   ]
  },
  {
   "cell_type": "code",
   "execution_count": null,
   "metadata": {
    "collapsed": false
   },
   "outputs": [],
   "source": []
  },
  {
   "cell_type": "code",
   "execution_count": null,
   "metadata": {
    "collapsed": true
   },
   "outputs": [],
   "source": []
  }
 ],
 "metadata": {
  "kernelspec": {
   "display_name": "Python 2",
   "language": "python",
   "name": "python2"
  },
  "language_info": {
   "codemirror_mode": {
    "name": "ipython",
    "version": 2
   },
   "file_extension": ".py",
   "mimetype": "text/x-python",
   "name": "python",
   "nbconvert_exporter": "python",
   "pygments_lexer": "ipython2",
   "version": "2.7.11"
  }
 },
 "nbformat": 4,
 "nbformat_minor": 0
}

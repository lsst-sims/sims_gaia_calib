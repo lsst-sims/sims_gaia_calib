{
 "cells": [
  {
   "cell_type": "markdown",
   "metadata": {},
   "source": [
    "Let's query the CatSim database and pull down the stars in a given region and see what their spectra are.\n",
    "\n",
    "Connect to fatboy with:\n",
    "\n",
    "ssh -L 51433:fatboy.phys.washington.edu:1433 gateway.astro.washington.edu\n",
    "\n",
    "\n",
    "If non-astro user, use simsuser@gateway.astro.washington.edu\n",
    "\n",
    "Database schema at:  https://confluence.lsstcorp.org/display/SIM/Database+Schema"
   ]
  },
  {
   "cell_type": "code",
   "execution_count": 1,
   "metadata": {
    "collapsed": false
   },
   "outputs": [
    {
     "name": "stderr",
     "output_type": "stream",
     "text": [
      "/Users/yoachim/lsst/DarwinX86/anaconda/2.2.0/lib/python2.7/site-packages/matplotlib/font_manager.py:273: UserWarning: Matplotlib is building the font cache using fc-list. This may take a moment.\n",
      "  warnings.warn('Matplotlib is building the font cache using fc-list. This may take a moment.')\n",
      "/Users/yoachim/lsst/DarwinX86/sims_catalogs_generation/sims_2.2.4/python/lsst/sims/catalogs/generation/db/dbConnection.py:438: UserWarning: Duplicate object type id 25 specified: \n",
      "Output object ids may not be unique.\n",
      "This may not be a problem if you do not want globally unique id values\n",
      "  'want globally unique id values')\n",
      "/Users/yoachim/lsst/DarwinX86/sims_catalogs_generation/sims_2.2.4/python/lsst/sims/catalogs/generation/db/dbConnection.py:438: UserWarning: Duplicate object type id 40 specified: \n",
      "Output object ids may not be unique.\n",
      "This may not be a problem if you do not want globally unique id values\n",
      "  'want globally unique id values')\n"
     ]
    }
   ],
   "source": [
    "from lsst.sims.catalogs.generation.db import CatalogDBObject\n",
    "from lsst.sims.catUtils.baseCatalogModels import *\n",
    "from lsst.sims.catUtils.exampleCatalogDefinitions import *\n",
    "import numpy as np\n",
    "from lsst.sims.utils import ObservationMetaData"
   ]
  },
  {
   "cell_type": "code",
   "execution_count": 2,
   "metadata": {
    "collapsed": false
   },
   "outputs": [],
   "source": [
    "ra = 0.  # Degrees\n",
    "dec = 0.  # Degrees\n",
    "boundLength = 1. \n",
    "dbobj = CatalogDBObject.from_objid('allstars')\n",
    "obs_metadata = ObservationMetaData(boundType='circle',pointingRA=ra,\n",
    "                                   pointingDec=dec,boundLength=boundLength, mjd=5700)\n",
    "t = dbobj.getCatalog('ref_catalog_star', obs_metadata=obs_metadata)"
   ]
  },
  {
   "cell_type": "code",
   "execution_count": 3,
   "metadata": {
    "collapsed": false
   },
   "outputs": [
    {
     "name": "stderr",
     "output_type": "stream",
     "text": [
      "/Users/yoachim/lsst/DarwinX86/sqlalchemy/2015_10.0-1-gaf5a1cb/lib/python/SQLAlchemy-1.0.8-py2.7-macosx-10.5-x86_64.egg/sqlalchemy/sql/elements.py:3779: SAWarning: Textual SQL expression 'rmag < 18 and rmag > 15' should be explicitly declared as text('rmag < 18 and rmag > 15') (this warning may be suppressed after 10 occurrences)\n",
      "  {\"expr\": util.ellipses_string(element)})\n"
     ]
    }
   ],
   "source": [
    "constraint = 'rmag < 18 and rmag > 15'\n",
    "chunks = t.db_obj.query_columns(colnames=['rmag', 'sedfilename', 'ebv', 'especid'], \n",
    "                                obs_metadata=obs_metadata,constraint=constraint, \n",
    "                                chunk_size=1000000)"
   ]
  },
  {
   "cell_type": "code",
   "execution_count": 4,
   "metadata": {
    "collapsed": false
   },
   "outputs": [],
   "source": [
    "for chunk in chunks:\n",
    "    ack = chunk"
   ]
  },
  {
   "cell_type": "code",
   "execution_count": 5,
   "metadata": {
    "collapsed": false
   },
   "outputs": [
    {
     "data": {
      "text/plain": [
       "rec.array([ (426037734, 17.05723, ' lte035-5.0-1.0a+0.4.BT-Settl.spec.gz', 0.0323519, -1),\n",
       " (426038330, 16.99824, ' lte037-5.5-1.0a+0.4.BT-Settl.spec.gz', 0.0308979, -1),\n",
       " (426034893, 17.95176, ' lte034-4.5-1.0a+0.4.BT-Settl.spec.gz', 0.0388949, -1),\n",
       " ..., (818778168, 17.8869787, 'km10_4500.fits_g00_4700', 0.0298073, -1),\n",
       " (588510793, 15.8799033, 'km15_4250.fits_g00_4470', 0.0301708, -1),\n",
       " (818778743, 16.0920467, 'km10_5500.fits_g15_5720', 0.0301708, -1)], \n",
       "          dtype=[('simobjid', '<i8'), ('rmag', '<f8'), ('sedfilename', 'S256'), ('ebv', '<f8'), ('especid', '<i8')])"
      ]
     },
     "execution_count": 5,
     "metadata": {},
     "output_type": "execute_result"
    }
   ],
   "source": [
    "ack"
   ]
  },
  {
   "cell_type": "code",
   "execution_count": 6,
   "metadata": {
    "collapsed": true
   },
   "outputs": [],
   "source": [
    "# OK, now I'd like to load up the spectra of one of the stars and apply the extinction so it's the full SED as it would be observed in space"
   ]
  },
  {
   "cell_type": "code",
   "execution_count": null,
   "metadata": {
    "collapsed": false
   },
   "outputs": [],
   "source": []
  },
  {
   "cell_type": "code",
   "execution_count": null,
   "metadata": {
    "collapsed": true
   },
   "outputs": [],
   "source": []
  }
 ],
 "metadata": {
  "kernelspec": {
   "display_name": "Python 2",
   "language": "python",
   "name": "python2"
  },
  "language_info": {
   "codemirror_mode": {
    "name": "ipython",
    "version": 2
   },
   "file_extension": ".py",
   "mimetype": "text/x-python",
   "name": "python",
   "nbconvert_exporter": "python",
   "pygments_lexer": "ipython2",
   "version": "2.7.11"
  }
 },
 "nbformat": 4,
 "nbformat_minor": 0
}
